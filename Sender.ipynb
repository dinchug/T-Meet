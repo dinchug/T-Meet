{
 "cells": [
  {
   "cell_type": "markdown",
   "id": "exact-daughter",
   "metadata": {},
   "source": [
    "## Importing Libraries"
   ]
  },
  {
   "cell_type": "code",
   "execution_count": 1,
   "id": "olympic-sampling",
   "metadata": {},
   "outputs": [],
   "source": [
    "import cv2\n",
    "import numpy as np\n",
    "import tensorflow.keras"
   ]
  },
  {
   "cell_type": "markdown",
   "id": "loving-country",
   "metadata": {},
   "source": [
    "## Capturing Video"
   ]
  },
  {
   "cell_type": "code",
   "execution_count": 23,
   "id": "supposed-german",
   "metadata": {},
   "outputs": [
    {
     "name": "stdout",
     "output_type": "stream",
     "text": [
      "image dimensions (HxW): 47 x 1279\n",
      "frame dimensions (HxW): 720 x 1280\n"
     ]
    },
    {
     "ename": "TypeError",
     "evalue": "'NoneType' object does not support item assignment",
     "output_type": "error",
     "traceback": [
      "\u001b[0;31m---------------------------------------------------------------------------\u001b[0m",
      "\u001b[0;31mTypeError\u001b[0m                                 Traceback (most recent call last)",
      "\u001b[0;32m<ipython-input-23-a1b23f072162>\u001b[0m in \u001b[0;36m<module>\u001b[0;34m\u001b[0m\n\u001b[1;32m     33\u001b[0m \u001b[0;34m\u001b[0m\u001b[0m\n\u001b[1;32m     34\u001b[0m     \u001b[0;31m#Adding zoom UI\u001b[0m\u001b[0;34m\u001b[0m\u001b[0;34m\u001b[0m\u001b[0;34m\u001b[0m\u001b[0m\n\u001b[0;32m---> 35\u001b[0;31m     \u001b[0mframe\u001b[0m\u001b[0;34m[\u001b[0m\u001b[0;36m673\u001b[0m\u001b[0;34m:\u001b[0m\u001b[0;36m720\u001b[0m\u001b[0;34m,\u001b[0m \u001b[0;36m0\u001b[0m\u001b[0;34m:\u001b[0m\u001b[0;36m1279\u001b[0m\u001b[0;34m]\u001b[0m \u001b[0;34m=\u001b[0m \u001b[0mzoom_bar\u001b[0m\u001b[0;34m\u001b[0m\u001b[0;34m\u001b[0m\u001b[0m\n\u001b[0m\u001b[1;32m     36\u001b[0m \u001b[0;34m\u001b[0m\u001b[0m\n\u001b[1;32m     37\u001b[0m     \u001b[0;31m#Adding Text\u001b[0m\u001b[0;34m\u001b[0m\u001b[0;34m\u001b[0m\u001b[0;34m\u001b[0m\u001b[0m\n",
      "\u001b[0;31mTypeError\u001b[0m: 'NoneType' object does not support item assignment"
     ]
    }
   ],
   "source": [
    "sender = cv2.VideoCapture(0)\n",
    "sender.set(cv2.CAP_PROP_FRAME_WIDTH, 650)\n",
    "sender.set(cv2.CAP_PROP_FRAME_HEIGHT, 1200)\n",
    "sender.set(cv2.CAP_PROP_FPS, 25)\n",
    "\n",
    "zoom_bar = cv2.imread('Assets/zoom_bar.png')\n",
    "zoom_bar_height, zoom_bar_width, _ = zoom_bar.shape\n",
    "\n",
    "frame_width  = sender.get(cv2.CAP_PROP_FRAME_WIDTH )\n",
    "frame_height = sender.get(cv2.CAP_PROP_FRAME_HEIGHT )\n",
    "\n",
    "# Print dimensions\n",
    "print('image dimensions (HxW):',zoom_bar_height,\"x\",zoom_bar_width)\n",
    "print('frame dimensions (HxW):',int(frame_height),\"x\",int(frame_width))\n",
    "\n",
    "sender_texts = [[\" ohh\", \" Hello\"], [\" I'm\", \" good\", \" what's\", \" your\", \" name?\"], [\" Nice\", \" to\", \" meet\", \" you\"]]\n",
    "receiver_texts = [\" Hey man, how are you?\", \" My name is Martin\"]\n",
    "\n",
    "current_message = \"Translating...\"\n",
    "\n",
    "sender_text_speed = 1\n",
    "receiver_text_speed = 0\n",
    "\n",
    "sender_row, receiver_row = 2, 1\n",
    "sender_col, receiver_col = 0, 0\n",
    "\n",
    "is_sender_active = False\n",
    "is_receiver_active = True\n",
    "Active = True\n",
    "\n",
    "while (Active):\n",
    "    ret, frame = sender.read()\n",
    "    \n",
    "    #Adding zoom UI\n",
    "    frame[673:720, 0:1279] = zoom_bar\n",
    "    \n",
    "    #Adding Text\n",
    "    font = cv2.FONT_HERSHEY_SIMPLEX\n",
    "    fontScale = 1\n",
    "    color = (0, 0, 0)\n",
    "    thickness = 2\n",
    "    textsize = cv2.getTextSize(current_message, font, 1, 2)[0]\n",
    "    textX = int((frame.shape[1] - textsize[0]) / 2)\n",
    "    org = (textX, 50)\n",
    "    frame = cv2.putText(frame, current_message, org, font, \n",
    "                       fontScale, color, thickness, cv2.LINE_AA)\n",
    "    \n",
    "    if (cv2.waitKey(1) & 0xFF == ord('s')) or is_sender_active:\n",
    "        is_sender_active = True\n",
    "        if sender_text_speed > 15 and sender_text_speed % 15 == 0:\n",
    "            if sender_col >= len(sender_texts[sender_row]):\n",
    "                is_sender_active = False\n",
    "                #is_receiver_active = True\n",
    "                sender_text_speed = 0\n",
    "                receiver_text_speed = 0\n",
    "                sender_row += 1\n",
    "                sender_col = 0\n",
    "            else:\n",
    "                if \"Martin\" in current_message: current_message = \"Translating...\"\n",
    "                current_message += sender_texts[sender_row][sender_col]\n",
    "                sender_col += 1\n",
    "                \n",
    "        sender_text_speed += 1\n",
    "        \n",
    "    if is_receiver_active and receiver_text_speed > 15:\n",
    "        current_message = \"Martin: \" + receiver_texts[receiver_row]\n",
    "        receiver_row += 1\n",
    "        is_receiver_active = False\n",
    "    \n",
    "    # Quit video Capture\n",
    "    if cv2.waitKey(1) & 0xFF == ord('q'):\n",
    "        Active = False\n",
    "\n",
    "    # Display the resulting frame\n",
    "    cv2.imshow('Zoom meeting', frame)\n",
    "    \n",
    "    receiver_text_speed += 1\n",
    "        \n",
    "  \n",
    "vid.release()\n",
    "# Destroy all the windows\n",
    "cv2.destroyAllWindows()"
   ]
  },
  {
   "cell_type": "code",
   "execution_count": 22,
   "id": "legal-layout",
   "metadata": {},
   "outputs": [
    {
     "data": {
      "text/plain": [
       "1"
      ]
     },
     "execution_count": 22,
     "metadata": {},
     "output_type": "execute_result"
    }
   ],
   "source": [
    "sender_text_speed"
   ]
  },
  {
   "cell_type": "code",
   "execution_count": null,
   "id": "numeric-storm",
   "metadata": {},
   "outputs": [],
   "source": []
  }
 ],
 "metadata": {
  "kernelspec": {
   "display_name": "Python 3",
   "language": "python",
   "name": "python3"
  },
  "language_info": {
   "codemirror_mode": {
    "name": "ipython",
    "version": 3
   },
   "file_extension": ".py",
   "mimetype": "text/x-python",
   "name": "python",
   "nbconvert_exporter": "python",
   "pygments_lexer": "ipython3",
   "version": "3.6.13"
  }
 },
 "nbformat": 4,
 "nbformat_minor": 5
}
