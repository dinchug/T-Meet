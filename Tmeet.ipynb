{
 "cells": [
  {
   "cell_type": "markdown",
   "metadata": {},
   "source": [
    "## Importing libraries"
   ]
  },
  {
   "cell_type": "code",
   "execution_count": 1,
   "metadata": {},
   "outputs": [],
   "source": [
    "import cv2\n",
    "import numpy as np\n",
    "import tensorflow.keras"
   ]
  },
  {
   "cell_type": "markdown",
   "metadata": {},
   "source": [
    "## Capturing Video"
   ]
  },
  {
   "cell_type": "code",
   "execution_count": null,
   "metadata": {},
   "outputs": [],
   "source": [
    "sender = cv2.VideoCapture(0)\n",
    "sender.set(cv2.CAP_PROP_FRAME_WIDTH, 500)\n",
    "sender.set(cv2.CAP_PROP_FRAME_HEIGHT, 1000)\n",
    "sender.set(cv2.CAP_PROP_FPS, 25)\n",
    "\n",
    "receiver = cv2.VideoCapture(0)\n",
    "receiver.set(cv2.CAP_PROP_FRAME_WIDTH, 500)\n",
    "receiver.set(cv2.CAP_PROP_FRAME_HEIGHT, 1000)\n",
    "receiver.set(cv2.CAP_PROP_FPS, 25)\n",
    "\n",
    "Active = True\n",
    "\n",
    "while (Active):\n",
    "    ret, frame = sender.read()\n",
    "    ret_2, frame_2 = receiver.read()\n",
    "  \n",
    "    # Display the resulting frame\n",
    "    cv2.imshow('frame', frame)\n",
    "    cv2.imshow('frame2', frame_2)\n",
    "      \n",
    "    # the 'q' button is set as the\n",
    "    # quitting button you may use any\n",
    "    # desired button of your choice\n",
    "    if cv2.waitKey(1) & 0xFF == ord('q'):\n",
    "        Active = False\n",
    "  \n",
    "vid.release()\n",
    "# Destroy all the windows\n",
    "cv2.destroyAllWindows()"
   ]
  },
  {
   "cell_type": "code",
   "execution_count": null,
   "metadata": {},
   "outputs": [],
   "source": [
    "receiver"
   ]
  }
 ],
 "metadata": {
  "kernelspec": {
   "display_name": "Python 3",
   "language": "python",
   "name": "python3"
  },
  "language_info": {
   "codemirror_mode": {
    "name": "ipython",
    "version": 3
   },
   "file_extension": ".py",
   "mimetype": "text/x-python",
   "name": "python",
   "nbconvert_exporter": "python",
   "pygments_lexer": "ipython3",
   "version": "3.6.13"
  }
 },
 "nbformat": 4,
 "nbformat_minor": 4
}
