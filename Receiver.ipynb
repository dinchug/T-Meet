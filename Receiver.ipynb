{
 "cells": [
  {
   "cell_type": "markdown",
   "id": "f95bc28f-4dfa-4619-a3bc-4657209bf2d0",
   "metadata": {},
   "source": [
    "## Importing Libraries"
   ]
  },
  {
   "cell_type": "code",
   "execution_count": 3,
   "id": "3879ac7b-1d0b-4628-8f28-73015e74233f",
   "metadata": {},
   "outputs": [],
   "source": [
    "import cv2\n",
    "import subprocess\n",
    "import numpy as np"
   ]
  },
  {
   "cell_type": "markdown",
   "id": "4e12a829-bbec-446c-b48e-a3585a49b50a",
   "metadata": {},
   "source": [
    "## Function for speech output"
   ]
  },
  {
   "cell_type": "code",
   "execution_count": 4,
   "id": "a0334000-2a0e-4d66-8f82-328c3fda0852",
   "metadata": {},
   "outputs": [],
   "source": [
    "def say(text):\n",
    "    subprocess.call(['say', text])"
   ]
  },
  {
   "cell_type": "markdown",
   "id": "f8de86c3-b30a-4b16-8e9a-ddba6a53d02c",
   "metadata": {},
   "source": [
    "## Capturing Video"
   ]
  },
  {
   "cell_type": "code",
   "execution_count": null,
   "id": "179d1cd0-ae17-454c-a57e-50133d3f1f11",
   "metadata": {},
   "outputs": [
    {
     "name": "stdout",
     "output_type": "stream",
     "text": [
      "image dimensions (HxW): 47 x 1279\n",
      "frame dimensions (HxW): 720 x 1280\n"
     ]
    }
   ],
   "source": [
    "sender = cv2.VideoCapture(0)\n",
    "sender.set(cv2.CAP_PROP_FRAME_WIDTH, 650)\n",
    "sender.set(cv2.CAP_PROP_FRAME_HEIGHT, 1200)\n",
    "sender.set(cv2.CAP_PROP_FPS, 25)\n",
    "\n",
    "zoom_bar = cv2.imread('Assets/zoom_bar.png')\n",
    "zoom_bar_height, zoom_bar_width, _ = zoom_bar.shape\n",
    "\n",
    "frame_width  = sender.get(cv2.CAP_PROP_FRAME_WIDTH )\n",
    "frame_height = sender.get(cv2.CAP_PROP_FRAME_HEIGHT )\n",
    "\n",
    "# Print dimensions\n",
    "print('image dimensions (HxW):',zoom_bar_height,\"x\",zoom_bar_width)\n",
    "print('frame dimensions (HxW):',int(frame_height),\"x\",int(frame_width))\n",
    "\n",
    "sender_texts  = [[\" Hey\", \" man,\", \" how\", \" are\",  \" you?\"], [\" My\", \" name\", \" is\", \" Martin\"]]\n",
    "receiver_texts = [\" ohh Hello\", \" I'm good, what's your name?\", \" Nice to meet you\"]\n",
    "\n",
    "current_message = receiver_texts[receiver_row]\n",
    "\n",
    "sender_text_speed = 1\n",
    "receiver_text_speed = 0\n",
    "\n",
    "sender_row, receiver_row = 0, 0\n",
    "sender_col, receiver_col = 0, 0\n",
    "\n",
    "is_sender_active = False\n",
    "is_receiver_active = True\n",
    "Active = True\n",
    "\n",
    "while (Active):\n",
    "    ret, frame = sender.read()\n",
    "    \n",
    "    #Adding zoom UI\n",
    "    frame[673:720, 0:1279] = zoom_bar\n",
    "    \n",
    "    #Adding Text\n",
    "    font = cv2.FONT_HERSHEY_SIMPLEX\n",
    "    fontScale = 1\n",
    "    color = (0, 0, 0)\n",
    "    thickness = 2\n",
    "    textsize = cv2.getTextSize(current_message, font, 1, 2)[0]\n",
    "    textX = int((frame.shape[1] - textsize[0]) / 2)\n",
    "    org = (textX, 50)\n",
    "    frame = cv2.putText(frame, current_message, org, font, \n",
    "                       fontScale, color, thickness, cv2.LINE_AA)\n",
    "    \n",
    "    if (cv2.waitKey(1) & 0xFF == ord('s')) or is_sender_active:\n",
    "        is_sender_active = True\n",
    "        if sender_text_speed > 10 and sender_text_speed % 7 == 0:\n",
    "            if sender_col >= len(sender_texts[sender_row]):\n",
    "                is_sender_active = False\n",
    "                #is_receiver_active = True\n",
    "                sender_text_speed = 0\n",
    "                receiver_text_speed = 0\n",
    "                sender_row += 1\n",
    "                sender_col = 0\n",
    "            else:\n",
    "                if \"Subomi\" in current_message: current_message = \"Translating...\"\n",
    "                current_message += sender_texts[sender_row][sender_col]\n",
    "                sender_col += 1\n",
    "                \n",
    "        sender_text_speed += 1\n",
    "        \n",
    "    # Quit video Capture\n",
    "    if cv2.waitKey(1) & 0xFF == ord('q'):\n",
    "        Active = False\n",
    "\n",
    "    # Display the resulting frame\n",
    "    cv2.imshow('Zoom meeting', frame)\n",
    "    \n",
    "    if is_receiver_active and receiver_text_speed > 15:\n",
    "        current_message = \"Subomi: \" + receiver_texts[receiver_row]\n",
    "        say(receiver_texts[receiver_row])\n",
    "        receiver_row += 1\n",
    "        is_receiver_active = False\n",
    "    \n",
    "    receiver_text_speed += 1\n",
    "        \n",
    "  \n",
    "vid.release()\n",
    "# Destroy all the windows\n",
    "cv2.destroyAllWindows()"
   ]
  },
  {
   "cell_type": "code",
   "execution_count": null,
   "id": "ec5c7214-026c-45b9-b34d-81e71ef97281",
   "metadata": {},
   "outputs": [],
   "source": []
  },
  {
   "cell_type": "code",
   "execution_count": null,
   "id": "a8dc9091-f56f-468e-a779-cbf9aeb01e0d",
   "metadata": {},
   "outputs": [],
   "source": []
  },
  {
   "cell_type": "code",
   "execution_count": null,
   "id": "97a27861-4da5-49e3-8549-09e558d75a62",
   "metadata": {},
   "outputs": [],
   "source": []
  }
 ],
 "metadata": {
  "kernelspec": {
   "display_name": "Python 3",
   "language": "python",
   "name": "python3"
  },
  "language_info": {
   "codemirror_mode": {
    "name": "ipython",
    "version": 3
   },
   "file_extension": ".py",
   "mimetype": "text/x-python",
   "name": "python",
   "nbconvert_exporter": "python",
   "pygments_lexer": "ipython3",
   "version": "3.6.13"
  }
 },
 "nbformat": 4,
 "nbformat_minor": 5
}
